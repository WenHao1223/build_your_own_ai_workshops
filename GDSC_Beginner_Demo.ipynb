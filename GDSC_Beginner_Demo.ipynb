{
  "nbformat": 4,
  "nbformat_minor": 0,
  "metadata": {
    "colab": {
      "provenance": [],
      "authorship_tag": "ABX9TyN1xapJj66PAY6JeFnajmhW",
      "include_colab_link": true
    },
    "kernelspec": {
      "name": "python3",
      "display_name": "Python 3"
    },
    "language_info": {
      "name": "python"
    }
  },
  "cells": [
    {
      "cell_type": "markdown",
      "metadata": {
        "id": "view-in-github",
        "colab_type": "text"
      },
      "source": [
        "<a href=\"https://colab.research.google.com/github/russell612/self_learning_bot/blob/main/GDSC_Beginner_Demo.ipynb\" target=\"_parent\"><img src=\"https://colab.research.google.com/assets/colab-badge.svg\" alt=\"Open In Colab\"/></a>"
      ]
    },
    {
      "cell_type": "code",
      "execution_count": null,
      "metadata": {
        "id": "O2gBo3AaEI0M"
      },
      "outputs": [],
      "source": [
        "#@title Import relevant modules\n",
        "import pandas as pd\n",
        "import tensorflow as tf\n",
        "from matplotlib import pyplot as plt\n",
        "\n",
        "# The following lines adjust the granularity of reporting. \n",
        "pd.options.display.max_rows = 10\n",
        "pd.options.display.float_format = \"{:.1f}\".format"
      ]
    },
    {
      "cell_type": "markdown",
      "source": [
        "The above code is to setup our libraries and setup how we report our data "
      ],
      "metadata": {
        "id": "OGWpRod4EuFF"
      }
    },
    {
      "cell_type": "code",
      "source": [
        "# Import the dataset.\n",
        "training_df = pd.read_csv(filepath_or_buffer=\"https://download.mlcc.google.com/mledu-datasets/california_housing_train.csv\")\n",
        "\n",
        "# Scale the label.\n",
        "training_df[\"median_house_value\"] /= 1000.0\n",
        "\n",
        "training_df.describe()"
      ],
      "metadata": {
        "id": "u0tVuWA0E2eC"
      },
      "execution_count": null,
      "outputs": []
    },
    {
      "cell_type": "markdown",
      "source": [
        "Let us start to build our own AI Model!"
      ],
      "metadata": {
        "id": "sdS7v7zJEsxp"
      }
    },
    {
      "cell_type": "code",
      "source": [
        "def build_model(learn_rate):\n",
        "  model = tf.keras.models.Sequential()\n",
        "\n",
        "  # Your Code Here\n",
        "  return model\n",
        "\n",
        "def train_model(model, df, feature, label, epochs, batch_size):\n",
        "\n",
        "  history = model.fit(x=df[feature],\n",
        "                      y=df[label],\n",
        "                      batch_size = batch_size,\n",
        "                      epochs = epochs)\n",
        "  \n",
        "  # Your Code Here \n",
        "  \n",
        "  return trained_weight, trained_bias, epochs, rmse"
      ],
      "metadata": {
        "id": "fRrPP40gE-Pq"
      },
      "execution_count": null,
      "outputs": []
    },
    {
      "cell_type": "markdown",
      "source": [
        "What we are doing next will are to set up the functions required to plot our graphs to show how good each model does"
      ],
      "metadata": {
        "id": "bSjAjG5tFVHW"
      }
    },
    {
      "cell_type": "code",
      "source": [
        "def plot_the_model(trained_weight, trained_bias, feature, label):\n",
        "  \"\"\"Plot the trained model against 200 random training examples.\"\"\"\n",
        "\n",
        "  # Label the axes.\n",
        "  plt.xlabel(feature)\n",
        "  plt.ylabel(label)\n",
        "\n",
        "  # Create a scatter plot from 200 random points of the dataset.\n",
        "  random_examples = training_df.sample(n=200)\n",
        "  plt.scatter(random_examples[feature], random_examples[label])\n",
        "\n",
        "  # Create a red line representing the model. The red line starts\n",
        "  # at coordinates (x0, y0) and ends at coordinates (x1, y1).\n",
        "  x0 = 0\n",
        "  y0 = trained_bias\n",
        "  x1 = random_examples[feature].max()\n",
        "  y1 = trained_bias + (trained_weight * x1)\n",
        "  plt.plot([x0, x1], [y0, y1], c='r')\n",
        "\n",
        "  # Render the scatter plot and the red line.\n",
        "  plt.show()\n",
        "\n",
        "\n",
        "def plot_the_loss_curve(epochs, rmse):\n",
        "  \"\"\"Plot a curve of loss vs. epoch.\"\"\"\n",
        "\n",
        "  plt.figure()\n",
        "  plt.xlabel(\"Epoch\")\n",
        "  plt.ylabel(\"Root Mean Squared Error\")\n",
        "\n",
        "  plt.plot(epochs, rmse, label=\"Loss\")\n",
        "  plt.legend()\n",
        "  plt.ylim([rmse.min()*0.97, rmse.max()])\n",
        "  plt.show()  \n"
      ],
      "metadata": {
        "id": "joCREc1cFc5x"
      },
      "execution_count": null,
      "outputs": []
    },
    {
      "cell_type": "markdown",
      "source": [
        "Next up, we will be setting up out batch size, learn_rate and epochs:\n",
        "\n",
        "- Batch Size: The amount of rows of data that we feed into the model to train\n",
        "- learn_rate: How much we will tune our loss functions\n",
        "- Epochs: How many times will we train the model"
      ],
      "metadata": {
        "id": "jE6Gn7DmH24y"
      }
    },
    {
      "cell_type": "code",
      "source": [
        "learn_rate = # Tune it here\n",
        "epochs = # Tune it here \n",
        "batch_size = # Tune it here\n",
        "\n",
        "my_feature = \"total_rooms\"\n",
        "my_label = \"median_house_value\"\n",
        "\n",
        "my_model = None\n",
        "\n",
        "my_model = build_model(learn_rate)\n",
        "weight, bias, epochs, rmse = train_model(my_model, training_df,\n",
        "                                         my_feature, my_label,\n",
        "                                         epochs, batch_size)\n",
        "\n",
        "\n",
        "print(\"\\nThe learned weight for your model is %.4f\" % weight)\n",
        "print(\"The learned bias for your model is %.4f\\n\" % bias )\n",
        "\n",
        "plot_the_model(weight, bias, my_feature, my_label)\n",
        "plot_the_loss_curve(epochs, rmse)"
      ],
      "metadata": {
        "id": "ieMMWABDIcoa"
      },
      "execution_count": null,
      "outputs": []
    },
    {
      "cell_type": "markdown",
      "source": [
        "This next function helps in predicing the house values based on the model that we have created. Note to see its accuracy in how good it does it"
      ],
      "metadata": {
        "id": "-VQyiKhIIqVW"
      }
    },
    {
      "cell_type": "code",
      "source": [
        "def predict_house_values(n, feature, label):\n",
        "  batch = training_df[feature][10000:10000 + n]\n",
        "  predicted_values = my_model.predict_on_batch(x=batch)\n",
        "\n",
        "  print(\"feature   label          predicted\")\n",
        "  print(\"  value   value          value\")\n",
        "  print(\"          in thousand$   in thousand$\")\n",
        "  print(\"--------------------------------------\")\n",
        "  for i in range(n):\n",
        "    print (\"%5.0f %6.0f %15.0f\" % (training_df[feature][10000 + i],\n",
        "                                   training_df[label][10000 + i],\n",
        "                                   predicted_values[i][0] ))"
      ],
      "metadata": {
        "id": "V4I939_1Ixbm"
      },
      "execution_count": null,
      "outputs": []
    },
    {
      "cell_type": "code",
      "source": [
        "predict_house_values(10, my_feature, my_label)"
      ],
      "metadata": {
        "id": "XP0hbEpDI0V5"
      },
      "execution_count": null,
      "outputs": []
    },
    {
      "cell_type": "markdown",
      "source": [
        "# Challenge!\n",
        "Try to experiment and find which feature works best that would minimize our error the most! Top Scorers will receive some GDSC Swag! "
      ],
      "metadata": {
        "id": "CjiYUqGlKDz3"
      }
    },
    {
      "cell_type": "code",
      "source": [
        "my_feature = \"?\"   # Replace the ? with population or possibly\n",
        "                   # a different column name.\n",
        "\n",
        "# Experiment with the hyperparameters.\n",
        "learning_rate = 2\n",
        "epochs = 3\n",
        "batch_size = 120\n",
        "\n",
        "# Don't change anything below this line.\n",
        "my_model = build_model(learning_rate)\n",
        "weight, bias, epochs, rmse = train_model(my_model, training_df, \n",
        "                                         my_feature, my_label,\n",
        "                                         epochs, batch_size)\n",
        "plot_the_model(weight, bias, my_feature, my_label)\n",
        "plot_the_loss_curve(epochs, rmse)\n",
        "\n",
        "predict_house_values(15, my_feature, my_label)"
      ],
      "metadata": {
        "id": "3CktIyy6I8wg"
      },
      "execution_count": null,
      "outputs": []
    }
  ]
}